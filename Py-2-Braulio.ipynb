{
  "nbformat": 4,
  "nbformat_minor": 0,
  "metadata": {
    "colab": {
      "provenance": [],
      "authorship_tag": "ABX9TyPmwgZ37AAYg54IungrqmL4",
      "include_colab_link": true
    },
    "kernelspec": {
      "name": "python3",
      "display_name": "Python 3"
    },
    "language_info": {
      "name": "python"
    }
  },
  "cells": [
    {
      "cell_type": "markdown",
      "metadata": {
        "id": "view-in-github",
        "colab_type": "text"
      },
      "source": [
        "<a href=\"https://colab.research.google.com/github/braulioalda4-code/nuevo_repositorio/blob/main/Py-2-Braulio.ipynb\" target=\"_parent\"><img src=\"https://colab.research.google.com/assets/colab-badge.svg\" alt=\"Open In Colab\"/></a>"
      ]
    },
    {
      "cell_type": "markdown",
      "source": [
        "                        \"Practicas\""
      ],
      "metadata": {
        "id": "d4qzh-ajf3eZ"
      }
    },
    {
      "cell_type": "code",
      "execution_count": 11,
      "metadata": {
        "id": "avsrdAvRF8YU",
        "outputId": "a3e17c57-ae3e-4e97-93f4-99be3b29a67d",
        "colab": {
          "base_uri": "https://localhost:8080/"
        }
      },
      "outputs": [
        {
          "output_type": "stream",
          "name": "stdout",
          "text": [
            "5\n",
            "Ingrese su edad:18\n",
            "Ingrese el precio más alto:120\n",
            "Ingrese el total final de la compra:200\n",
            "False\n",
            "True\n",
            "True\n",
            "Ingrese su edad:18\n",
            "Ingrese su altura:1.70\n",
            "Ingrese el monto de su compra:500\n",
            "<class 'int'>\n",
            "<class 'float'>\n",
            "<class 'float'>\n",
            "False\n",
            "False\n",
            "False\n"
          ]
        }
      ],
      "source": [
        "#Práctica de Analítica de Datos: Tipos y Operaciones Básicas\n",
        "\n",
        "#Objetivo: Consolidar el conocimiento sobre los tipos de datos (numéricos, cadenas, booleanos), y aplicar operaciones aritméticas, relacionales y lógicas para resolver problemas de análisis de datos sencillos.\n",
        "\n",
        "#Parte 1. Tipos de datos\n",
        "\n",
        "#\tDefine tres variables:\n",
        "#\t\t- Un número entero (int) con tu edad.\n",
        "edad_es: int = 18\n",
        "#\t\t- Un número decimal (float) con tu altura en metros.\n",
        "altura: float = 1.70\n",
        "#\t\t- Una cadena de texto (str) con tu nombre completo.\n",
        "nombre: str = \"Braulio Aldahír\"\n",
        "\n",
        "#\tPregunta: ¿qué función en Python permite conocer el tipo de dato de una variable? Úsala para mostrar los resultados.\n",
        "type(nombre)\n",
        "#Parte 2. Operaciones aritméticas\n",
        "\n",
        "\n",
        "#\tSupón que compras 3 productos con precios: 125.50, 89.99 y 39.75.\n",
        "#\t\t- Calcula el total de la compra.\n",
        "#\t\t- Aplica un descuento del 15%.\n",
        "#\t\t- Calcula el IVA del 16% sobre el precio con descuento.\n",
        "#\t\t- Obtén el total final a pagar.\n",
        "producto1 = 125.50\n",
        "producto2 = 89.99\n",
        "producto3 = 39.75\n",
        "total_de_mi_compra = producto1 + producto2 + producto3\n",
        "total_compra_con_descuento = total_de_mi_compra * 0.85\n",
        "iva = total_compra_con_descuento * 0.16\n",
        "total_final = total_compra_con_descuento + iva\n",
        "\n",
        "#\t¿Qué operador usarías para obtener el residuo de dividir 125 entre 12?\n",
        "#\t\tEscríbelo y ejecútalo en código.\n",
        "residuo = 125 % 12\n",
        "print(residuo)\n",
        "\n",
        "\n",
        "#Parte 3. Operaciones relacionales\n",
        "\n",
        "#\tCon los datos anteriores:\n",
        "#\t\t- Verifica si tu edad es mayor a 18.\n",
        "#\t\t- Comprueba si el precio más alto es mayor que 100.\n",
        "#\t\t- Evalúa si el total final de la compra es menor o igual a 200.\n",
        "edad = int(input(\"Ingrese su edad:\"))\n",
        "precio_alto = float(input(\"Ingrese el precio más alto:\"))\n",
        "total_final = float(input(\"Ingrese el total final de la compra:\"))\n",
        "print(edad > 18)\n",
        "print(precio_alto > 100)\n",
        "print(total_final <= 200)\n",
        "\n",
        "#Parte 4. Operaciones lógicas\n",
        "\n",
        "#\tCrea dos variables booleanas:\n",
        "#\t\t- pago_tarjeta = True\n",
        "#\t\t- tiene_descuento = False\n",
        "#\t\t- ¿El cliente pagó con tarjeta y tiene descuento?\n",
        "#   - Evalúa las siguientes expresiones:\n",
        "#   - ¿El cliente pagó con tarjeta y tiene descuento?\n",
        "#\t\t- ¿El cliente pagó con tarjeta o tiene descuento?\n",
        "#\t\t- Niega el valor de tiene_descuento.\n",
        "pago_tarjeta = True\n",
        "tiene_descuento = False\n",
        "pago_tarjeta and tiene_descuento\n",
        "pago_tarjeta or tiene_descuento\n",
        "not tiene_descuento\n",
        "\n",
        "#Parte 5. Integración\n",
        "#\t\tRedacta un programa en Python que:\n",
        "#    \t-\tSolicite al usuario:\n",
        "#\t\t\t\t- Edad\n",
        "#\t\t\t\t- Altura\n",
        "#\t\t\t\t- Monto de una compra\n",
        "#\t\tMuestre en pantalla:\n",
        "#\t\t\t\t- El tipo de cada dato ingresado.\n",
        "#\t\t\t\t- Si el usuario es mayor de edad.\n",
        "#\t\t\t\t- Si la compra excede los $500.\n",
        "#\t\t\t\t- Si el usuario es mayor de edad y su compra excede $500.\n",
        "edad = int(input(\"Ingrese su edad:\"))\n",
        "altura = float(input(\"Ingrese su altura:\"))\n",
        "monto_compra = float(input(\"Ingrese el monto de su compra:\"))\n",
        "print(type(edad))\n",
        "print(type(altura))\n",
        "print(type(monto_compra))\n",
        "print(edad > 18)\n",
        "print(monto_compra > 500)\n",
        "print(edad > 18 and monto_compra > 500)"
      ]
    },
    {
      "cell_type": "code",
      "source": [
        "edad = int(input(\"Ingrese su edad:\"))\n",
        "altura = float(input(\"Ingrese su altura:\"))\n",
        "monto_compra = float(input(\"Ingrese el monto de su compra:\"))\n",
        "print(type(edad))\n",
        "print(type(altura))\n",
        "print(type(monto_compra))\n",
        "print(edad > 18)\n",
        "print(monto_compra > 500)\n",
        "print(edad > 18 and monto_compra > 500)"
      ],
      "metadata": {
        "id": "5XWVx6ptQNlY",
        "colab": {
          "base_uri": "https://localhost:8080/"
        },
        "outputId": "b73d45ec-b291-4767-c2de-e7afd1eb1064"
      },
      "execution_count": 1,
      "outputs": [
        {
          "output_type": "stream",
          "name": "stdout",
          "text": [
            "Ingrese su edad:18\n",
            "Ingrese su altura:1.70\n",
            "Ingrese el monto de su compra:500\n",
            "<class 'int'>\n",
            "<class 'float'>\n",
            "<class 'float'>\n",
            "False\n",
            "False\n",
            "False\n"
          ]
        }
      ]
    },
    {
      "cell_type": "code",
      "source": [
        "pago_tarjeta = True\n",
        "tiene_descuento = False\n",
        "pago_tarjeta and tiene_descuento\n",
        "pago_tarjeta or tiene_descuento\n",
        "not tiene_descuento"
      ],
      "metadata": {
        "id": "JqfOYv-EQFLu",
        "colab": {
          "base_uri": "https://localhost:8080/"
        },
        "outputId": "c42db18a-d5fb-4f1e-b0cf-1a69541259a2"
      },
      "execution_count": 2,
      "outputs": [
        {
          "output_type": "execute_result",
          "data": {
            "text/plain": [
              "True"
            ]
          },
          "metadata": {},
          "execution_count": 2
        }
      ]
    },
    {
      "cell_type": "code",
      "source": [
        "edad = int(input(\"Ingrese su edad:\"))\n",
        "precio_alto = float(input(\"Ingrese el precio más alto:\"))\n",
        "total_final = float(input(\"Ingrese el total final de la compra:\"))\n",
        "print(edad > 18)\n",
        "print(precio_alto > 100)\n",
        "print(total_final <= 200)"
      ],
      "metadata": {
        "id": "_tJeKLJ7P-MU",
        "colab": {
          "base_uri": "https://localhost:8080/"
        },
        "outputId": "2b8b2c85-4243-4d1d-f0e7-ce78795b0cac"
      },
      "execution_count": 3,
      "outputs": [
        {
          "output_type": "stream",
          "name": "stdout",
          "text": [
            "Ingrese su edad:18\n",
            "Ingrese el precio más alto:100\n",
            "Ingrese el total final de la compra:200\n",
            "False\n",
            "False\n",
            "True\n"
          ]
        }
      ]
    },
    {
      "cell_type": "code",
      "source": [
        "residuo = 125 % 12\n",
        "print(residuo)"
      ],
      "metadata": {
        "id": "dfP8beeKPwpN",
        "colab": {
          "base_uri": "https://localhost:8080/"
        },
        "outputId": "9d7d8a49-a98e-41ad-c305-296bf4fe9dee"
      },
      "execution_count": 4,
      "outputs": [
        {
          "output_type": "stream",
          "name": "stdout",
          "text": [
            "5\n"
          ]
        }
      ]
    },
    {
      "cell_type": "code",
      "source": [
        "nombre: str = \"Braulio Aldahír\"\n",
        "nombre"
      ],
      "metadata": {
        "id": "_y_DfhE2PVcw",
        "colab": {
          "base_uri": "https://localhost:8080/",
          "height": 36
        },
        "outputId": "7de2b536-773a-4081-a38a-1263cf56750f"
      },
      "execution_count": 5,
      "outputs": [
        {
          "output_type": "execute_result",
          "data": {
            "text/plain": [
              "'Braulio Aldahír'"
            ],
            "application/vnd.google.colaboratory.intrinsic+json": {
              "type": "string"
            }
          },
          "metadata": {},
          "execution_count": 5
        }
      ]
    },
    {
      "cell_type": "code",
      "source": [
        "altura: float = 1.70\n",
        "altura"
      ],
      "metadata": {
        "id": "oXZ4F58HPHQV",
        "colab": {
          "base_uri": "https://localhost:8080/"
        },
        "outputId": "8d004d2a-c27d-408c-8340-7d044dafdad8"
      },
      "execution_count": 6,
      "outputs": [
        {
          "output_type": "execute_result",
          "data": {
            "text/plain": [
              "1.7"
            ]
          },
          "metadata": {},
          "execution_count": 6
        }
      ]
    },
    {
      "cell_type": "code",
      "source": [
        "edad_es: int = 18\n",
        "edad_es"
      ],
      "metadata": {
        "id": "5emCRA95O1iE",
        "colab": {
          "base_uri": "https://localhost:8080/"
        },
        "outputId": "8a055e80-fac0-4eda-c524-cd60756eecdf"
      },
      "execution_count": 7,
      "outputs": [
        {
          "output_type": "execute_result",
          "data": {
            "text/plain": [
              "18"
            ]
          },
          "metadata": {},
          "execution_count": 7
        }
      ]
    },
    {
      "cell_type": "code",
      "source": [
        "(type(nombre))"
      ],
      "metadata": {
        "id": "OLlVqEKuWgOE",
        "colab": {
          "base_uri": "https://localhost:8080/"
        },
        "outputId": "bcf03c55-6fe0-4124-fc99-fbaaba7c79ab"
      },
      "execution_count": 8,
      "outputs": [
        {
          "output_type": "execute_result",
          "data": {
            "text/plain": [
              "str"
            ]
          },
          "metadata": {},
          "execution_count": 8
        }
      ]
    },
    {
      "cell_type": "code",
      "source": [
        "producto1\n",
        "producto2\n",
        "producto3\n",
        "total_de_mi_compra\n",
        "total_compra_con_descuento\n",
        "iva\n",
        "total_final"
      ],
      "metadata": {
        "id": "32U9PmyQY7Qf",
        "colab": {
          "base_uri": "https://localhost:8080/"
        },
        "outputId": "2dd9580b-1637-4987-c7df-d8f6a9b388c0"
      },
      "execution_count": 34,
      "outputs": [
        {
          "output_type": "execute_result",
          "data": {
            "text/plain": [
              "251.66664"
            ]
          },
          "metadata": {},
          "execution_count": 34
        }
      ]
    }
  ]
}