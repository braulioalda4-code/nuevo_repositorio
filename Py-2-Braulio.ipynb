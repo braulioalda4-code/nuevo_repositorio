{
  "nbformat": 4,
  "nbformat_minor": 0,
  "metadata": {
    "colab": {
      "provenance": [],
      "authorship_tag": "ABX9TyNdRysoqu8ylU0A+e2kuc+Z",
      "include_colab_link": true
    },
    "kernelspec": {
      "name": "python3",
      "display_name": "Python 3"
    },
    "language_info": {
      "name": "python"
    }
  },
  "cells": [
    {
      "cell_type": "markdown",
      "metadata": {
        "id": "view-in-github",
        "colab_type": "text"
      },
      "source": [
        "<a href=\"https://colab.research.google.com/github/braulioalda4-code/nuevo_repositorio/blob/main/Py-2-Braulio.ipynb\" target=\"_parent\"><img src=\"https://colab.research.google.com/assets/colab-badge.svg\" alt=\"Open In Colab\"/></a>"
      ]
    },
    {
      "cell_type": "markdown",
      "source": [
        "                        \"Practicas\""
      ],
      "metadata": {
        "id": "d4qzh-ajf3eZ"
      }
    },
    {
      "cell_type": "code",
      "execution_count": null,
      "metadata": {
        "id": "avsrdAvRF8YU"
      },
      "outputs": [],
      "source": [
        "#Práctica de Analítica de Datos: Tipos y Operaciones Básicas\n",
        "\n",
        "#Objetivo: Consolidar el conocimiento sobre los tipos de datos (numéricos, cadenas, booleanos), y aplicar operaciones aritméticas, relacionales y lógicas para resolver problemas de análisis de datos sencillos.\n",
        "\n",
        "#Parte 1. Tipos de datos\n",
        "\n",
        "#\tDefine tres variables:\n",
        "#\t\t- Un número entero (int) con tu edad.\n",
        "edad_es: int = 18\n",
        "#\t\t- Un número decimal (float) con tu altura en metros.\n",
        "altura: float = 1.70\n",
        "#\t\t- Una cadena de texto (str) con tu nombre completo.\n",
        "nombre: str = \"Braulio Aldahír\"\n",
        "\n",
        "#\tPregunta: ¿qué función en Python permite conocer el tipo de dato de una variable? Úsala para mostrar los resultados.\n",
        "type(nombre)\n",
        "#Parte 2. Operaciones aritméticas\n",
        "\n",
        "\n",
        "#\tSupón que compras 3 productos con precios: 125.50, 89.99 y 39.75.\n",
        "#\t\t- Calcula el total de la compra.\n",
        "#\t\t- Aplica un descuento del 15%.\n",
        "#\t\t- Calcula el IVA del 16% sobre el precio con descuento.\n",
        "#\t\t- Obtén el total final a pagar.\n",
        "\n",
        "#\t¿Qué operador usarías para obtener el residuo de dividir 125 entre 12?\n",
        "#\t\tEscríbelo y ejecútalo en código.\n",
        "residuo = 125 % 12\n",
        "print(residuo)\n",
        "\n",
        "\n",
        "#Parte 3. Operaciones relacionales\n",
        "\n",
        "#\tCon los datos anteriores:\n",
        "#\t\t- Verifica si tu edad es mayor a 18.\n",
        "#\t\t- Comprueba si el precio más alto es mayor que 100.\n",
        "#\t\t- Evalúa si el total final de la compra es menor o igual a 200.\n",
        "edad = int(input(\"Ingrese su edad:\"))\n",
        "precio_alto = float(input(\"Ingrese el precio más alto:\"))\n",
        "total_final = float(input(\"Ingrese el total final de la compra:\"))\n",
        "print(edad > 18)\n",
        "print(precio_alto > 100)\n",
        "print(total_final <= 200)\n",
        "\n",
        "#Parte 4. Operaciones lógicas\n",
        "\n",
        "#\tCrea dos variables booleanas:\n",
        "#\t\t- pago_tarjeta = True\n",
        "#\t\t- tiene_descuento = False\n",
        "#\t\t- ¿El cliente pagó con tarjeta y tiene descuento?\n",
        "#   - Evalúa las siguientes expresiones:\n",
        "#   - ¿El cliente pagó con tarjeta y tiene descuento?\n",
        "#\t\t- ¿El cliente pagó con tarjeta o tiene descuento?\n",
        "#\t\t- Niega el valor de tiene_descuento.\n",
        "pago_tarjeta = True\n",
        "tiene_descuento = False\n",
        "pago_tarjeta and tiene_descuento\n",
        "pago_tarjeta or tiene_descuento\n",
        "not tiene_descuento\n",
        "\n",
        "#Parte 5. Integración\n",
        "#\t\tRedacta un programa en Python que:\n",
        "#    \t-\tSolicite al usuario:\n",
        "#\t\t\t\t- Edad\n",
        "#\t\t\t\t- Altura\n",
        "#\t\t\t\t- Monto de una compra\n",
        "#\t\tMuestre en pantalla:\n",
        "#\t\t\t\t- El tipo de cada dato ingresado.\n",
        "#\t\t\t\t- Si el usuario es mayor de edad.\n",
        "#\t\t\t\t- Si la compra excede los $500.\n",
        "#\t\t\t\t- Si el usuario es mayor de edad y su compra excede $500.\n",
        "edad = int(input(\"Ingrese su edad:\"))\n",
        "altura = float(input(\"Ingrese su altura:\"))\n",
        "monto_compra = float(input(\"Ingrese el monto de su compra:\"))\n",
        "print(type(edad))\n",
        "print(type(altura))\n",
        "print(type(monto_compra))\n",
        "print(edad > 18)\n",
        "print(monto_compra > 500)\n",
        "print(edad > 18 and monto_compra > 500)"
      ]
    },
    {
      "cell_type": "code",
      "source": [
        "edad = int(input(\"Ingrese su edad:\"))\n",
        "altura = float(input(\"Ingrese su altura:\"))\n",
        "monto_compra = float(input(\"Ingrese el monto de su compra:\"))\n",
        "print(type(edad))\n",
        "print(type(altura))\n",
        "print(type(monto_compra))\n",
        "print(edad > 18)\n",
        "print(monto_compra > 500)\n",
        "print(edad > 18 and monto_compra > 500)"
      ],
      "metadata": {
        "colab": {
          "base_uri": "https://localhost:8080/"
        },
        "id": "5XWVx6ptQNlY",
        "outputId": "9ef947e8-b5ef-4b25-ac0a-e51a9bdec2f8"
      },
      "execution_count": null,
      "outputs": [
        {
          "output_type": "stream",
          "name": "stdout",
          "text": [
            "Ingrese su edad:18\n",
            "Ingrese su altura:1.70\n",
            "Ingrese el monto de su compra:500\n",
            "<class 'int'>\n",
            "<class 'float'>\n",
            "<class 'float'>\n",
            "False\n",
            "False\n",
            "False\n"
          ]
        }
      ]
    },
    {
      "cell_type": "code",
      "source": [
        "pago_tarjeta = True\n",
        "tiene_descuento = False\n",
        "pago_tarjeta and tiene_descuento\n",
        "pago_tarjeta or tiene_descuento\n",
        "not tiene_descuento"
      ],
      "metadata": {
        "colab": {
          "base_uri": "https://localhost:8080/"
        },
        "id": "JqfOYv-EQFLu",
        "outputId": "9632e773-f1e0-48b9-b909-2cfd5199055e"
      },
      "execution_count": null,
      "outputs": [
        {
          "output_type": "execute_result",
          "data": {
            "text/plain": [
              "True"
            ]
          },
          "metadata": {},
          "execution_count": 10
        }
      ]
    },
    {
      "cell_type": "code",
      "source": [
        "edad = int(input(\"Ingrese su edad:\"))\n",
        "precio_alto = float(input(\"Ingrese el precio más alto:\"))\n",
        "total_final = float(input(\"Ingrese el total final de la compra:\"))\n",
        "print(edad > 18)\n",
        "print(precio_alto > 100)\n",
        "print(total_final <= 200)"
      ],
      "metadata": {
        "colab": {
          "base_uri": "https://localhost:8080/"
        },
        "id": "_tJeKLJ7P-MU",
        "outputId": "8b0bcc80-36a5-4294-dd09-62c141ace5d9"
      },
      "execution_count": null,
      "outputs": [
        {
          "output_type": "stream",
          "name": "stdout",
          "text": [
            "Ingrese su edad:18\n",
            "Ingrese el precio más alto:100\n",
            "Ingrese el total final de la compra:200\n",
            "False\n",
            "False\n",
            "True\n"
          ]
        }
      ]
    },
    {
      "cell_type": "code",
      "source": [
        "residuo = 125 % 12\n",
        "print(residuo)"
      ],
      "metadata": {
        "colab": {
          "base_uri": "https://localhost:8080/"
        },
        "id": "dfP8beeKPwpN",
        "outputId": "a2479a34-e346-44b7-f93b-9e40be475416"
      },
      "execution_count": null,
      "outputs": [
        {
          "output_type": "stream",
          "name": "stdout",
          "text": [
            "5\n"
          ]
        }
      ]
    },
    {
      "cell_type": "code",
      "source": [
        "nombre: str = \"Braulio Aldahír\"\n",
        "nombre"
      ],
      "metadata": {
        "colab": {
          "base_uri": "https://localhost:8080/",
          "height": 35
        },
        "id": "_y_DfhE2PVcw",
        "outputId": "d386c095-6c18-4778-8237-4f061336a497"
      },
      "execution_count": null,
      "outputs": [
        {
          "output_type": "execute_result",
          "data": {
            "text/plain": [
              "'Braulio Aldahír'"
            ],
            "application/vnd.google.colaboratory.intrinsic+json": {
              "type": "string"
            }
          },
          "metadata": {},
          "execution_count": 7
        }
      ]
    },
    {
      "cell_type": "code",
      "source": [
        "altura: float = 1.70\n",
        "altura"
      ],
      "metadata": {
        "colab": {
          "base_uri": "https://localhost:8080/"
        },
        "id": "oXZ4F58HPHQV",
        "outputId": "f6c2502c-8229-43ed-a74b-8100fafd70b2"
      },
      "execution_count": null,
      "outputs": [
        {
          "output_type": "execute_result",
          "data": {
            "text/plain": [
              "1.7"
            ]
          },
          "metadata": {},
          "execution_count": 6
        }
      ]
    },
    {
      "cell_type": "code",
      "source": [
        "edad_es: int = 18\n",
        "edad_es"
      ],
      "metadata": {
        "colab": {
          "base_uri": "https://localhost:8080/"
        },
        "id": "5emCRA95O1iE",
        "outputId": "a745d5b5-a63a-4258-b8e3-1910997bb928"
      },
      "execution_count": null,
      "outputs": [
        {
          "output_type": "execute_result",
          "data": {
            "text/plain": [
              "18"
            ]
          },
          "metadata": {},
          "execution_count": 5
        }
      ]
    }
  ]
}