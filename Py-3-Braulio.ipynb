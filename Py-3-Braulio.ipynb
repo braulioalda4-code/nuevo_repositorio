{
  "nbformat": 4,
  "nbformat_minor": 0,
  "metadata": {
    "colab": {
      "provenance": [],
      "authorship_tag": "ABX9TyNry07PUUFEwLSDgRGarlW8",
      "include_colab_link": true
    },
    "kernelspec": {
      "name": "python3",
      "display_name": "Python 3"
    },
    "language_info": {
      "name": "python"
    }
  },
  "cells": [
    {
      "cell_type": "markdown",
      "metadata": {
        "id": "view-in-github",
        "colab_type": "text"
      },
      "source": [
        "<a href=\"https://colab.research.google.com/github/braulioalda4-code/nuevo_repositorio/blob/main/Py-3-Braulio.ipynb\" target=\"_parent\"><img src=\"https://colab.research.google.com/assets/colab-badge.svg\" alt=\"Open In Colab\"/></a>"
      ]
    },
    {
      "cell_type": "markdown",
      "source": [
        "JUEVES LAB"
      ],
      "metadata": {
        "id": "1RMSA0b1Jg_T"
      }
    },
    {
      "cell_type": "code",
      "execution_count": 13,
      "metadata": {
        "colab": {
          "base_uri": "https://localhost:8080/"
        },
        "id": "5U1jumHzJZe_",
        "outputId": "0bbdc726-4142-452c-889b-d992977f667d"
      },
      "outputs": [
        {
          "output_type": "stream",
          "name": "stdout",
          "text": [
            "Lista vacia: []\n",
            "Frutas: ['manzana', 'banana', 'cereza']\n",
            "Números: [1, 2, 3, 4, 5]\n",
            "Despues de insert: ['manzana', 'banana', 'cereza', 'naranja']\n",
            "Despues de extend ['manzana', 'banana', 'cereza', 'naranja', 'mango', 'piña']\n",
            "Despues de actualizar: ['manzana verde', 'banana', 'cereza', 'naranja', 'mango', 'piña']\n",
            "Despues de remove: ['manzana verde', 'cereza', 'naranja', 'mango', 'piña']\n",
            "Elemento eliminado: naranja\n",
            "Despues de pop: ['manzana verde', 'cereza', 'mango', 'piña']\n",
            "Ultimo elemento eliminado: piña\n",
            "Despues de pop(): ['manzana verde', 'cereza', 'mango']\n",
            "Despues de clear: []\n",
            "primer elemento: manzana\n",
            "segundo elemento: banana\n",
            "ultimo elemento: mango\n",
            "penultimo elemento: uva\n"
          ]
        }
      ],
      "source": [
        "################### 1.CREACIÓN DE LISTAS #####################\n",
        "\n",
        "# 1. Lista vacía\n",
        "lista_vacia = []\n",
        "lista_vacia2 = list()\n",
        "\n",
        "# 2. Lista con elementos\n",
        "frutas = [\"manzana\", \"banana\", \"cereza\"]\n",
        "numeros = [1, 2, 3, 4, 5]\n",
        "mixta = [\"texto\", 42,3.14, True]\n",
        "\n",
        "print(\"Lista vacia:\", lista_vacia)\n",
        "print(\"Frutas:\", frutas)\n",
        "print(\"Números:\", numeros)\n",
        "\n",
        "################### 2.INSERCIONES Y ACTUALIZACIONES #####################\n",
        "frutas.append(\"naranja\")\n",
        "print(\"Despues de insert:\", frutas)\n",
        "\n",
        "frutas.extend([\"mango\",\"piña\"])\n",
        "print(\"Despues de extend\", frutas)\n",
        "\n",
        "frutas[0] = \"manzana verde\"\n",
        "print(\"Despues de actualizar:\", frutas)\n",
        "\n",
        "################### 3.BORRADOS #####################\n",
        "frutas.remove(\"banana\")\n",
        "print(\"Despues de remove:\", frutas)\n",
        "\n",
        "elemento_eliminado = frutas.pop(2)\n",
        "print(f\"Elemento eliminado: {elemento_eliminado}\")\n",
        "print(\"Despues de pop:\", frutas)\n",
        "\n",
        "ultimo = frutas.pop()\n",
        "print(f\"Ultimo elemento eliminado: {ultimo}\")\n",
        "print(\"Despues de pop():\", frutas)\n",
        "\n",
        "frutas.clear()\n",
        "print(\"Despues de clear:\", frutas)\n",
        "\n",
        "################# 4.ACCESO A LAS LISTAS ######################\n",
        "frutas = [\"manzana\", \"banana\", \"cereza\", \"naranja\", \"uva\", \"mango\"]\n",
        "\n",
        "# La forma de acceder a los elementos de una lista es con el operador [inicio:fin]. Indicando el inicio de elementos que quieres de la lista\n",
        "# y fin indica el elemento - 1 que va recoger de la lista. Los indices empiezan en 0.\n",
        "print(\"primer elemento:\", frutas[0])\n",
        "print(\"segundo elemento:\", frutas[1])\n",
        "print(\"ultimo elemento:\", frutas[-1])\n",
        "print(\"penultimo elemento:\", frutas[-2])\n",
        "\n",
        "print(\"Primeros 3 elementos:\", frutas[0.3])\n",
        "print(\"Desde indice 2:\", frutas[2:])\n",
        "print(\"Hasta indice 4:\", frutas[:4])\n",
        "print(\"Cada dos elementos\", frutas[::2])\n"
      ]
    },
    {
      "cell_type": "code",
      "source": [
        "lista_vacia"
      ],
      "metadata": {
        "colab": {
          "base_uri": "https://localhost:8080/"
        },
        "id": "05asbE9XLsW1",
        "outputId": "8e9640a4-3579-42c1-8602-62bbccd330e9"
      },
      "execution_count": 2,
      "outputs": [
        {
          "output_type": "execute_result",
          "data": {
            "text/plain": [
              "[]"
            ]
          },
          "metadata": {},
          "execution_count": 2
        }
      ]
    },
    {
      "cell_type": "code",
      "source": [
        "frutas"
      ],
      "metadata": {
        "colab": {
          "base_uri": "https://localhost:8080/"
        },
        "id": "R31Qg37dLyOy",
        "outputId": "b6da0f08-c728-4e61-87fe-9ecc1fa108b1"
      },
      "execution_count": 14,
      "outputs": [
        {
          "output_type": "execute_result",
          "data": {
            "text/plain": [
              "['manzana', 'banana', 'cereza', 'naranja', 'uva', 'mango']"
            ]
          },
          "metadata": {},
          "execution_count": 14
        }
      ]
    }
  ]
}